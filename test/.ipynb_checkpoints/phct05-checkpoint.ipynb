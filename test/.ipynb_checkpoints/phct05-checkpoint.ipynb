{
 "cells": [
  {
   "cell_type": "markdown",
   "metadata": {},
   "source": [
    "# Develop phcg.py"
   ]
  },
  {
   "cell_type": "code",
   "execution_count": null,
   "metadata": {},
   "outputs": [],
   "source": [
    "from rdkit import Chem\n",
    "from rdkit.Chem import ChemicalFeatures\n",
    "from rdkit import rdBase\n",
    "from rdkit.RDPaths import RDDocsDir\n",
    "from rdkit.RDPaths import RDDataDir\n",
    "from rdkit.Chem.Draw import IPythonConsole,MolDrawing, DrawingOptions\n",
    "from rdkit.Chem import Draw\n",
    "from rdkit.Chem import AllChem\n",
    "import os,sys\n",
    "import pandas as pd\n",
    "import numpy as np\n",
    "%matplotlib inline\n",
    "import matplotlib.pyplot as plt\n",
    "\n",
    "print(rdBase.rdkitVersion)\n",
    "IPythonConsole.ipython_useSVG=True\n",
    "#> 2018.09.1\n",
    "fdefFile = os.path.join(RDDataDir,'BaseFeatures.fdef')\n",
    "featFact = ChemicalFeatures.BuildFeatureFactory(fdefFile)\n",
    "\n",
    "tid=11##############\n",
    "\n",
    "datapath=\"../../data/tid-%d/tid-%d-actives.txt\"%(tid,tid)\n",
    "df = pd.read_csv(datapath, delimiter='\\t')\n",
    "#print(df)\n",
    "df = df.iloc[0:10,:]\n",
    "mols = [Chem.MolFromSmiles(smiles) for smiles in df['non_stereo_aromatic_smieles']]#.iloc[0:582]]\n",
    "activity = [val for val in df[\"pot.(log,Ki)\"]]\n",
    "\n",
    "featslists = [featFact.GetFeaturesForMol(mol) for mol in mols]\n",
    "#for imol,mol in enumerate(mols):\n",
    "#    AllChem.Compute2DCoords(mol)\n",
    "    \n",
    "df"
   ]
  },
  {
   "cell_type": "code",
   "execution_count": null,
   "metadata": {},
   "outputs": [],
   "source": [
    "from pathlib import Path\n",
    "sys.path.append(os.path.join(Path().resolve(), '../src/'))\n",
    "from infra.phct import xmol"
   ]
  },
  {
   "cell_type": "code",
   "execution_count": null,
   "metadata": {},
   "outputs": [],
   "source": [
    "def drawAtomNum(mol):\n",
    "    DrawingOptions.includeAtomNumbers=True\n",
    "    fig = Draw.MolToMPL(mol)    \n",
    "\n",
    "def xmolshow(index):\n",
    "    mol=mols[index]\n",
    "    xmol0 = xmol(mol)\n",
    "    xmol0.getFeats()\n",
    "    \n",
    "    # draw CFs in a grid \n",
    "    im = xmol0.show(grid=True)\n",
    "    display(im)\n",
    "    \n",
    "    # draw atom-num labeled molecule structures\n",
    "    #DrawingOptions.includeAtomNumbers=True\n",
    "    #fig = Draw.MolToMPL(mol)\n",
    "    drawAtomNum(xmol0.mol)\n",
    "    print(xmol0.featsFamilyList)\n",
    "    print(xmol0.featsAtomListGraph)\n",
    "    print(xmol0.legends_list)\n",
    "    #im = xmol0.show(grid=False)\n",
    "    #display(im)"
   ]
  },
  {
   "cell_type": "code",
   "execution_count": null,
   "metadata": {
    "scrolled": false
   },
   "outputs": [],
   "source": [
    "from ipywidgets import interact\n",
    "interact(xmolshow, index=(0, len(mols) - 1, 1))"
   ]
  },
  {
   "cell_type": "code",
   "execution_count": null,
   "metadata": {},
   "outputs": [],
   "source": [
    "drawAtomNum(Chem.MolFromSmiles('CNC(C(c1ccccc1)c2ccccc2)C(=O)N3CCCC3C(=O)NC(CCCNC(=N)N)C(=O)c4nc5ccccc5s4'))"
   ]
  },
  {
   "cell_type": "code",
   "execution_count": null,
   "metadata": {},
   "outputs": [],
   "source": [
    "#test\n",
    "m = Chem.MolFromSmiles('c1ccccc1O')\n",
    "patt = Chem.MolFromSmarts('ccO')\n",
    "m.HasSubstructMatch(patt)\n",
    "m.GetSubstructMatch(patt)"
   ]
  },
  {
   "cell_type": "code",
   "execution_count": null,
   "metadata": {},
   "outputs": [],
   "source": [
    "#find all five aliphatic rings\n",
    "xmolA=xmol(Chem.MolFromSmiles('C1CCCC1'))\n",
    "patt = Chem.MolFromSmarts('[A;R]1[A;R][A;R][A;R][A;R]1')\n",
    "xmolA.mol.GetSubstructMatches(patt)"
   ]
  },
  {
   "cell_type": "code",
   "execution_count": null,
   "metadata": {},
   "outputs": [],
   "source": [
    "#find all five aliphatic rings\n",
    "xmolA=xmol(Chem.MolFromSmiles('c1cncnc1'))\n",
    "patt = Chem.MolFromSmarts('[a;r]1[a;r][a;r][a;r][a;r][a;r]1')\n",
    "xmolA.mol.GetSubstructMatches(patt)"
   ]
  },
  {
   "cell_type": "code",
   "execution_count": null,
   "metadata": {},
   "outputs": [],
   "source": []
  },
  {
   "cell_type": "code",
   "execution_count": null,
   "metadata": {},
   "outputs": [],
   "source": [
    "import networkx as nx\n",
    "from IPython.display import SVG, display\n",
    "\n",
    "#G = nx.DiGraph()\n",
    "#nx.add_path(G, [3, 5, 4, 1, 0, 2, 7, 8, 9, 6])\n",
    "#nx.add_path(G, [3, 0, 6, 4, 2, 7, 1, 9, 8, 5])\n",
    "\n",
    "G = nx.from_numpy_matrix(xmolA.adjmat)\n",
    "\n",
    "#nx.nx_agraph.view_pygraphviz(G, prog='fdp') \n",
    "svg = SVG(nx.nx_agraph.to_agraph(G).draw(prog='fdp', format='svg'))\n",
    "display(svg)"
   ]
  },
  {
   "cell_type": "code",
   "execution_count": null,
   "metadata": {},
   "outputs": [],
   "source": [
    "nx.find_cycle(G)"
   ]
  },
  {
   "cell_type": "code",
   "execution_count": null,
   "metadata": {},
   "outputs": [],
   "source": [
    "#naphthalene\n",
    "mol=Chem.MolFromSmiles('C1=CC=C2C=CC=CC2=C1')\n",
    "drawAtomNum(mol)\n",
    "xmol4=xmol(mol)"
   ]
  },
  {
   "cell_type": "code",
   "execution_count": null,
   "metadata": {},
   "outputs": [],
   "source": [
    "xmol4.getFeats()\n",
    "#graph\n",
    "G = nx.from_numpy_matrix(np.asarray(xmol4.g.graphnp))\n",
    "svg = SVG(nx.nx_agraph.to_agraph(G).draw(prog='fdp', format='svg'))\n",
    "display(svg)\n",
    "#graph\n",
    "G = nx.from_numpy_matrix(np.asarray(xmol4.t.tree))\n",
    "svg = SVG(nx.nx_agraph.to_agraph(G).draw(prog='fdp', format='svg'))\n",
    "display(svg)"
   ]
  },
  {
   "cell_type": "code",
   "execution_count": null,
   "metadata": {},
   "outputs": [],
   "source": [
    "#naphthalene\n",
    "mol=Chem.MolFromSmiles('c1cc(C)ccc1c2ccc(C)cc2')\n",
    "drawAtomNum(mol)"
   ]
  },
  {
   "cell_type": "code",
   "execution_count": null,
   "metadata": {},
   "outputs": [],
   "source": [
    "# Set example data\n",
    "smiles_list = [    'c1ccncc1',#pyridine\n",
    "                   'CCc1ccccc1',#Me-Ph\n",
    "                   'CNC(C(c1ccccc1)c2ccccc2)C(=O)N3CCCC3C(=O)NC(CCCNC(=N)N)C(=O)c4nc5ccccc5s4',#tid-11 CHRMBL403768 thrombin\n",
    "                   \"CN1CCN(CC1)CCCOC2=C(C=C3C(=C2)N=CC(=C3NC4=CC(=C(C=C4Cl)Cl)OC)C#N)OC\",#Bosutinib\n",
    "                   \"CC1=C(C(=CC=C1)Cl)NC(=O)C2=CN=C(S2)NC3=NC(=NC(=C3)N4CCN(CC4)CCO)C\",#Desatiinib\n",
    "                   \"CC1=C(C=C(C=C1)NC(=O)C2=CC=C(C=C2)CN3CCN(CC3)C)NC4=NC=CC(=N4)C5=CN=CC=C5\",#Imatinib\n",
    "                   \"CC1=C(C=C(C=C1)C(=O)NC2=CC(=C(C=C2)CN3CCN(CC3)C)C(F)(F)F)C#CC4=CN=C5N4N=CC=C5\",#Potatinib\n",
    "                   \"CC1=C(C=C(C=C1)C(=O)NC2=CC(=CC(=C2)N3C=C(N=C3)C)C(F)(F)F)NC4=NC=CC(=N4)C5=CN=CC=C5\"#Nilotibib\n",
    "              ]\n",
    "mols = [Chem.MolFromSmiles(smiles) for smiles in smiles_list]\n",
    "drawAtomNum(mols[2])"
   ]
  },
  {
   "cell_type": "code",
   "execution_count": null,
   "metadata": {},
   "outputs": [],
   "source": [
    "print('\\n## test_getAtomsSetOnPhct')\n",
    "xmol3 = xmol(mols[3])\n",
    "xmol3.getFeats()\n",
    "print(xmol3.featsAtomListGraph)\n",
    "distvec,paths = xmol3.g.shortestPaths(3)\n",
    "atomSetOnPhct = xmol3.getAtomSetOnPhct([0,9])\n",
    "print(atomSetOnPhct)\n",
    "atomSetOnPhct = xmol3.getAtomSetOnPhct([0,1,15])\n",
    "print(atomSetOnPhct)"
   ]
  },
  {
   "cell_type": "code",
   "execution_count": null,
   "metadata": {},
   "outputs": [],
   "source": [
    "# draw CFs in a grid \n",
    "#display(xmol3.show(grid=True))\n",
    "xmol3.show(grid=True)"
   ]
  },
  {
   "cell_type": "code",
   "execution_count": null,
   "metadata": {},
   "outputs": [],
   "source": [
    "xmol3.show(grid=False)"
   ]
  },
  {
   "cell_type": "code",
   "execution_count": null,
   "metadata": {},
   "outputs": [],
   "source": [
    "#xmol3.show(grid=False,highlight=atomSetOnPhct)"
   ]
  },
  {
   "cell_type": "code",
   "execution_count": null,
   "metadata": {},
   "outputs": [],
   "source": [
    "#naphthalene\n",
    "mol=Chem.MolFromSmiles('[Rg](CC)(CC)(CC)(CC)C')\n",
    "#drawAtomNum(mol)\n",
    "mol"
   ]
  },
  {
   "cell_type": "code",
   "execution_count": null,
   "metadata": {},
   "outputs": [],
   "source": [
    "def drawPhct(adjmat,featsAtomList=[],featsFamilyList=[],node_label_list=[],node_label=True,edge_label=False,figsize=(8,8)):\n",
    "    G = nx.from_numpy_matrix(np.asarray(adjmat))\n",
    "    \n",
    "    nnodes = len(adjmat)\n",
    "\n",
    "    #if len(featsAtomList)==0:\n",
    "    #    featsAtomList = list(range(nnodes))\n",
    "    \n",
    "    if len(node_label_list)==0:\n",
    "        if len(featsAtomList) == 0:\n",
    "            node_label_list = list(range(nnodes))\n",
    "        else:\n",
    "            node_label_list = featsAtomList#list(range(nnodes))\n",
    "    assert len(node_label_list)==nnodes\n",
    "\n",
    "    mapping = {k: v for k, v in zip(G.nodes,node_label_list)}\n",
    "    #print(mapping)\n",
    "    G = nx.relabel_nodes(G, mapping)\n",
    "    \n",
    "    def inverse_dict(d):\n",
    "        return {v:k for k,v in d.items()}\n",
    "    inverse_mapping = inverse_dict(mapping)\n",
    "    #print(len(adjmat))\n",
    "    #print(inverse_mapping)\n",
    "    #print(featsAtomList)\n",
    "    nodecolor = ['gray' for k in G.nodes]\n",
    "    \n",
    "    if len(featsFamilyList)>0:\n",
    "        for featsAtom, featsFamily in zip(featsAtomList,featsFamilyList):\n",
    "            if featsFamily==1:\n",
    "                nodecolor[inverse_mapping[featsAtom]] = 'blue'\n",
    "            elif featsFamily==2:\n",
    "                nodecolor[inverse_mapping[featsAtom]] = 'red'\n",
    "            elif featsFamily==6:\n",
    "                nodecolor[inverse_mapping[featsAtom]] = 'green'\n",
    "            elif featsFamily==7:\n",
    "                nodecolor[inverse_mapping[featsAtom]] = 'yellow'                \n",
    "            elif featsFamily==9:\n",
    "                nodecolor[inverse_mapping[featsAtom]] = 'gray'\n",
    "            else:\n",
    "                nodecolor[inverse_mapping[featsAtom]] = 'black'\n",
    "               \n",
    "    else:\n",
    "        for featsAtom in featsAtomList: nodecolor[inverse_mapping[featsAtom]] = 'red'\n",
    "\n",
    "    #print(nodecolor)\n",
    "        \n",
    "    plt.figure(figsize=figsize)\n",
    "    pos = nx.spring_layout(G,k=0.5)\n",
    "\n",
    "    node_size = 300#[ d['count']*20 for (n,d) in G.nodes(data=True)]\n",
    "    nx.draw_networkx_nodes(G, pos, node_color=nodecolor,alpha=0.6, node_size=node_size)\n",
    "\n",
    "    if node_label:\n",
    "        nx.draw_networkx_labels(G, pos, font_size=14, font_weight=\"bold\")\n",
    "\n",
    "    edge_width = 1#[ d['weight']*0.2 for (u,v,d) in G.edges(data=True)]\n",
    "    nx.draw_networkx_edges(G, pos, alpha=1, edge_color='black', width=edge_width)\n",
    "    \n",
    "    if edge_label:\n",
    "        edge_labels=dict([((u,v,),\"%d\" % d['weight']) for u,v,d in G.edges(data=True)])\n",
    "        nx.draw_networkx_edge_labels(G,pos,font_size=14, font_weight=\"bold\",edge_labels=edge_labels)\n",
    "    \n",
    "\n",
    "    #nx.draw\n",
    "    plt.axis('off')\n",
    "    #plt.savefig(\"g2.png\")\n",
    "    plt.show()\n",
    "    #svg = SVG(nx.nx_agraph.to_agraph(G).draw(prog='fdp', format='svg'))\n",
    "    #display(svg)"
   ]
  },
  {
   "cell_type": "code",
   "execution_count": null,
   "metadata": {
    "scrolled": false
   },
   "outputs": [],
   "source": [
    "xmol3 = xmol(mols[3])\n",
    "xmol3.getFeats()\n",
    "drawPhct(xmol3.t.tree)"
   ]
  },
  {
   "cell_type": "code",
   "execution_count": null,
   "metadata": {},
   "outputs": [],
   "source": [
    "xmol3 = xmol(mols[3])\n",
    "xmol3.getFeats()\n",
    "combiFeats=[16,11,1,0]#[0,1,11,16]#[0,1,9,15]#[0,1,11,13,14,15]\n",
    "#print('featsFamilyList in combiFeats')\n",
    "#print([xmol3.featsFamilyList[iFeats] for iFeats in combiFeats])\n",
    "atomSetOnPhctList = xmol3.getAtomSetOnPhct(combiFeats)\n",
    "\n",
    "## ここで複数ある可能性があるパスを1つに絞っている。\n",
    "atomSetOnPhct0 = atomSetOnPhctList[0] #=[1, 2, 3, 4, 34, 35, 7, 8, 9, 10, 11, 36, 18, 19, 20, 22, 28, 29]\n",
    "atomSetOnPhct0,adjmatAtomSet0 = xmol3.getFragsAtomSet(atomSetOnPhct0,combiFeats)\n",
    "#print(adjmatAtomSet)\n",
    "featsAtomList = []\n",
    "featsAtomList2= []\n",
    "featsFamilyList = []\n",
    "\n",
    "if 5 in [xmol3.featsFamilyList[iFeats] for iFeats in combiFeats]:\n",
    "    for idx in combiFeats: featsAtomList += xmol3.featsAtomListTree[idx] #combiFeatsに芳香環を含む場合\n",
    "    for idx in combiFeats: featsAtomList2.append(xmol3.featsAtomListTree[idx]) #combiFeatsに芳香環を含む場合\n",
    "    for idx in combiFeats: featsFamilyList+=[xmol3.featsFamilyList[idx]]\n",
    "else:\n",
    "    for idx in combiFeats: featsAtomList += xmol3.featsAtomListGraph[idx] #combiFeatsに芳香環を含まない場合\n",
    "    for idx in combiFeats: featsAtomList2.append(xmol3.featsAtomListTree[idx]) #combiFeatsに芳香環を含まない場合\n",
    "    for idx in combiFeats: featsFamilyList += [xmol3.featsFamilyList[idx]]\n",
    "\n",
    "        \n",
    "#print(featsAtomList)\n",
    "#print(featsAtomList2)\n",
    "featsAtomList = [atom for atom in featsAtomList if atom in atomSetOnPhct0]\n",
    "drawPhct(adjmatAtomSet0,featsAtomList=featsAtomList,featsFamilyList=featsFamilyList,node_label_list=atomSetOnPhct0)"
   ]
  },
  {
   "cell_type": "code",
   "execution_count": null,
   "metadata": {},
   "outputs": [],
   "source": [
    "#draw Phct\n",
    "distmatAtomListOfList,featsFamilyList_wJunction_List,featsAtomList_wJunction_List = xmol3.makePhct(combiFeats)\n",
    "drawPhct(distmatAtomListOfList[0],featsAtomList_wJunction_List[0],featsFamilyList_wJunction_List[0],\n",
    "         node_label=True,edge_label=True,figsize=(4,4))"
   ]
  },
  {
   "cell_type": "code",
   "execution_count": null,
   "metadata": {},
   "outputs": [],
   "source": [
    "xmol3.show(grid=False)"
   ]
  },
  {
   "cell_type": "code",
   "execution_count": null,
   "metadata": {},
   "outputs": [],
   "source": [
    "xmol2 = xmol(mols[2])\n",
    "xmol2.getFeats()\n",
    "xmol2.show()"
   ]
  },
  {
   "cell_type": "code",
   "execution_count": null,
   "metadata": {},
   "outputs": [],
   "source": [
    "xmol2.show(grid=False)"
   ]
  },
  {
   "cell_type": "code",
   "execution_count": null,
   "metadata": {
    "scrolled": false
   },
   "outputs": [],
   "source": [
    "xmol2 = xmol(mols[2])\n",
    "xmol2.getFeats()\n",
    "G = nx.from_numpy_matrix(np.asarray(xmol2.t.tree))\n",
    "plt.figure(figsize=(10,10))\n",
    "pos = nx.spring_layout(G,k=0.3)\n",
    "\n",
    "node_size = 300#[ d['count']*20 for (n,d) in G.nodes(data=True)]\n",
    "nx.draw_networkx_nodes(G, pos, node_color='gray',alpha=0.6, node_size=node_size)\n",
    "nx.draw_networkx_labels(G, pos, fontsize=14, font_family=\"Yu Gothic\", font_weight=\"bold\")\n",
    "\n",
    "edge_width = 1#[ d['weight']*0.2 for (u,v,d) in G.edges(data=True)]\n",
    "nx.draw_networkx_edges(G, pos, alpha=1, edge_color='black', width=edge_width)\n",
    "\n",
    "\n",
    "plt.axis('off')\n",
    "#plt.savefig(\"g2.png\")\n",
    "plt.show()\n",
    "#svg = SVG(nx.nx_agraph.to_agraph(G).draw(prog='fdp', format='svg'))\n",
    "#display(svg)\n",
    "print(xmol2.featsAtomListTree)"
   ]
  },
  {
   "cell_type": "code",
   "execution_count": null,
   "metadata": {
    "scrolled": false
   },
   "outputs": [],
   "source": [
    "combiFeats=[0, 2, 4, 5, 6, 7]#[0,1,2,3,4,10]#[0,1,6,9,11,16]#[0,1,9,15]#[0,1,11,13,14,15]\n",
    "#print('featsFamilyList in combiFeats')\n",
    "#print([xmol3.featsFamilyList[iFeats] for iFeats in combiFeats])\n",
    "atomSetOnPhctList = xmol2.getAtomSetOnPhct(combiFeats)\n",
    "atomSetOnPhct0 = atomSetOnPhctList[0] #=[1, 2, 3, 4, 34, 35, 7, 8, 9, 10, 11, 36, 18, 19, 20, 22, 28, 29]\n",
    "atomSetOnPhct0,adjmatAtomSet0 = xmol2.getFragsAtomSet(atomSetOnPhct0,combiFeats)\n",
    "#print(adjmatAtomSet)\n",
    "featsFamilyList = []\n",
    "featsAtomList = []\n",
    "featsAtomList2= []\n",
    "\n",
    "if 5 in [xmol2.featsFamilyList[iFeats] for iFeats in combiFeats]:\n",
    "    for idx in combiFeats: featsAtomList += xmol2.featsAtomListTree[idx] #combiFeatsに芳香環を含む場合\n",
    "    for idx in combiFeats: featsAtomList2.append(xmol2.featsAtomListTree[idx]) #combiFeatsに芳香環を含む場合\n",
    "    for idx in combiFeats: featsFamilyList+=[xmol2.featsFamilyList[idx]]\n",
    "else:\n",
    "    for idx in combiFeats: featsAtomList += xmol2.featsAtomListGraph[idx] #combiFeatsに芳香環を含まない場合\n",
    "    for idx in combiFeats: featsAtomList2.append(xmol2.featsAtomListTree[idx]) #combiFeatsに芳香環を含まない場合\n",
    "    for idx in combiFeats: featsFamilyList+=[xmol2.featsFamilyList[idx]]\n",
    "\n",
    "#print(featsAtomList)\n",
    "#print(featsAtomList2)\n",
    "#print(adjmatAtomSet0)\n",
    "featsAtomList = [atom for atom in featsAtomList if atom in atomSetOnPhct0]\n",
    "drawPhct(adjmatAtomSet0,featsAtomList,featsFamilyList,node_label_list=atomSetOnPhct0,)"
   ]
  },
  {
   "cell_type": "code",
   "execution_count": null,
   "metadata": {},
   "outputs": [],
   "source": [
    "combiFeats=[0, 2, 4, 5, 6, 7]#[0,1,2,3,4,10]#[0,1,6,9,11,16]#[0,1,9,15]#[0,1,11,13,14,15]\n",
    "distmatAtomListOfList,featsFamilyList_wJunction_List,featsAtomList_wJunction_List, = xmol2.makePhct(combiFeats)\n",
    "if len(distmatAtomListOfList)>0:\n",
    "    drawPhct(distmatAtomListOfList[0],featsAtomList_wJunction_List[0],featsFamilyList_wJunction_List[0],node_label=True,edge_label=True,figsize=(6,6))\n",
    "    nodes, edges = xmol2.encodePhct(distmatAtomListOfList[0],featsFamilyList_wJunction_List[0])\n",
    "    print(nodes)\n",
    "    print(edges)"
   ]
  },
  {
   "cell_type": "code",
   "execution_count": null,
   "metadata": {
    "scrolled": true
   },
   "outputs": [],
   "source": [
    "from itertools import combinations\n",
    "for iphct,combiFeats in enumerate(combinations(list(range(len(xmol2.featsFamilyList))),6)):\n",
    "    #print(combiFeats)\n",
    "    #draw Phct\n",
    "    distmatAtomListOfList,featsFamilyList_wJunction_List,featsAtomList_wJunction_List = xmol2.makePhct(combiFeats)\n",
    "    if len(distmatAtomListOfList)>0:\n",
    "        drawPhct(distmatAtomListOfList[0],featsAtomList_wJunction_List[0],featsFamilyList_wJunction_List[0],\n",
    "             node_label=True,edge_label=True,figsize=(6,6))\n",
    "        nodes, edges = xmol2.encodePhct(distmatAtomListOfList[0],featsFamilyList_wJunction_List[0])\n",
    "        print(nodes)\n",
    "        print(edges)\n",
    "        \n",
    "        \n",
    "        \n",
    "    if iphct > 100: break"
   ]
  },
  {
   "cell_type": "code",
   "execution_count": null,
   "metadata": {},
   "outputs": [],
   "source": [
    "xmol2.show(grid=False)"
   ]
  },
  {
   "cell_type": "code",
   "execution_count": null,
   "metadata": {},
   "outputs": [],
   "source": []
  },
  {
   "cell_type": "code",
   "execution_count": null,
   "metadata": {},
   "outputs": [],
   "source": [
    "smiles=\"CCCNc1nc(S(C)(=O)=O)nc2c1cnn2C=Cc1ccccc1\"\n",
    "xmol2 = xmol(Chem.MolFromSmiles(smiles))\n",
    "xmol2.getFeats()\n",
    "G = nx.from_numpy_matrix(np.asarray(xmol2.t.tree))\n",
    "plt.figure(figsize=(10,10))\n",
    "pos = nx.spring_layout(G,k=0.3)\n",
    "\n",
    "node_size = 300#[ d['count']*20 for (n,d) in G.nodes(data=True)]\n",
    "nx.draw_networkx_nodes(G, pos, node_color='gray',alpha=0.6, node_size=node_size)\n",
    "nx.draw_networkx_labels(G, pos, fontsize=14, font_family=\"Yu Gothic\", font_weight=\"bold\")\n",
    "\n",
    "edge_width = 1#[ d['weight']*0.2 for (u,v,d) in G.edges(data=True)]\n",
    "nx.draw_networkx_edges(G, pos, alpha=1, edge_color='black', width=edge_width)\n",
    "\n",
    "\n",
    "plt.axis('off')\n",
    "#plt.savefig(\"g2.png\")\n",
    "plt.show()\n",
    "#svg = SVG(nx.nx_agraph.to_agraph(G).draw(prog='fdp', format='svg'))\n",
    "#display(svg)\n",
    "print(xmol2.featsAtomListTree)"
   ]
  },
  {
   "cell_type": "code",
   "execution_count": null,
   "metadata": {},
   "outputs": [],
   "source": []
  }
 ],
 "metadata": {
  "kernelspec": {
   "display_name": "Python 3",
   "language": "python",
   "name": "python3"
  },
  "language_info": {
   "codemirror_mode": {
    "name": "ipython",
    "version": 3
   },
   "file_extension": ".py",
   "mimetype": "text/x-python",
   "name": "python",
   "nbconvert_exporter": "python",
   "pygments_lexer": "ipython3",
   "version": "3.7.7"
  }
 },
 "nbformat": 4,
 "nbformat_minor": 4
}
