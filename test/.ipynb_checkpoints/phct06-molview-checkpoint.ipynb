{
 "cells": [
  {
   "cell_type": "markdown",
   "metadata": {},
   "source": [
    "# MolView\n",
    "\n"
   ]
  },
  {
   "cell_type": "code",
   "execution_count": 1,
   "metadata": {},
   "outputs": [],
   "source": [
    "import pytest\n",
    "import os,sys\n",
    "import itertools\n",
    "import pandas as pd\n",
    "import numpy as np\n",
    "from rdkit import Chem\n",
    "from rdkit.Chem.Descriptors import MolWt\n",
    "from rdkit.Chem.Scaffolds import MurckoScaffold\n",
    "#sys.path.append(os.path.join(os.path.dirname(__file__), '../src/'))\n",
    "sys.path.append('../src/')\n",
    "from infra.phct import xmol\n",
    "from common.graph import Graph\n",
    "from common.unique import unique\n",
    "from common.scaffold import Scaffold\n",
    "from common import pickle0\n",
    "#from infra.phcg import LPhcg\n",
    "#from database.ligand import Ligand\n",
    "import common.molwt as molwt\n",
    "\n",
    "#def run(tid,datadir):\n",
    "#    pickle0.pickle_func(datadir + 'liganddb.pickle',makeLiganddb,tid,datadir)\n",
    "\n",
    "def read(tid,datadir):\n",
    "    # actives\n",
    "    datapath1=datadir + \"tid-\"+str(tid)+\"-actives.txt\"\n",
    "    if \".txt\" or \".tsv\" in datapath1:\n",
    "        df1 = pd.read_csv(datapath1, delimiter='\\t')\n",
    "        #df1 = df1[['chembl-id','non_stereo_aromatic_smieles','pot.(log,IC50)']]\n",
    "        df1 = df1[['chembl-id','non_stereo_aromatic_smieles','pot.(log,Ki)']]\n",
    "        df1 = df1.rename(columns={'pot.(log,Ki)': 'pot.(log,IC50)'})\n",
    "        df1 = df1.rename(columns={'non_stereo_aromatic_smieles': 'nonstereo_aromatic_smiles'})\n",
    "        smiles_list = df1['nonstereo_aromatic_smiles'].values\n",
    "        smiles_list = [Chem.MolToSmiles(Chem.MolFromSmiles(smiles)) for smiles in smiles_list]\n",
    "        activity_list = list(df1['pot.(log,IC50)'].values)\n",
    "        chembl_list = list(df1['chembl-id'].values)\n",
    "    # inactives\n",
    "    datapath2=datadir + \"tid-\"+str(tid)+\"-inactives.txt\"\n",
    "    if \".txt\" or \".tsv\" in datapath2:\n",
    "        df2 = pd.read_csv(datapath2, delimiter='\\t')\n",
    "        df2 = df2[['chembl-id','nonstereo_aromatic_smiles']]\n",
    "        smiles_list2 = df2['nonstereo_aromatic_smiles'].values\n",
    "        smiles_list2 = [Chem.MolToSmiles(Chem.MolFromSmiles(smiles)) for smiles in smiles_list2]\n",
    "        activity_list2 = list(np.zeros(len(smiles_list2)))\n",
    "        chembl_list2 = list(df2['chembl-id'].values)\n",
    "    # concatinate actives and inactives\n",
    "    smiles_list.extend(smiles_list2)\n",
    "    activity_list.extend(activity_list2)\n",
    "    chembl_list.extend(chembl_list2)\n",
    "    smiles_list,activity_list,chembl_list = molwt.screen(smiles_list,activity_list,chembl_list )\n",
    "    return chembl_list, smiles_list, activity_list"
   ]
  },
  {
   "cell_type": "code",
   "execution_count": 2,
   "metadata": {},
   "outputs": [],
   "source": [
    "def read_train_pos(tid,ver,datadir):\n",
    "    # actives\n",
    "    datapath1=datadir + 'tid-%d'%tid+'/'+ver + '/' + \"tid-\"+str(tid)+\"-train-pos.csv\"\n",
    "    if \".txt\" or \".tsv\" in datapath1:\n",
    "        df1 = pd.read_csv(datapath1, delimiter=',')\n",
    "        #df1 = df1[['chembl-id','non_stereo_aromatic_smieles','pot.(log,IC50)']]\n",
    "        df1 = df1[['chembl_id','smiles','activity']]\n",
    "        smiles_list = df1['smiles'].values\n",
    "        smiles_list = [Chem.MolToSmiles(Chem.MolFromSmiles(smiles)) for smiles in smiles_list]\n",
    "        activity_list = list(df1['activity'].values)\n",
    "        chembl_list = list(df1['chembl_id'].values)\n",
    "    return chembl_list, smiles_list, activity_list"
   ]
  },
  {
   "cell_type": "code",
   "execution_count": 15,
   "metadata": {},
   "outputs": [],
   "source": [
    "tid=11#8#194#194#11#194#8#11#\n",
    "datadir = '../../data/phct/'\n",
    "#ver='t%ds0ccrsinglentt14'%tid\n",
    "ver='t%ds3bmntt14'%tid\n",
    "\n",
    "#datadir = '/mnt/E/Members/nakano/10-Exploring_TPGs-Nakano/version01_accepted/data/'\n",
    "#ver='s0t6bm14'\n",
    "\n",
    "chembl_list, smiles_list, activity_list = read_train_pos(tid,ver,datadir)\n",
    "#chembl_list, smiles_list, activity_list = read(tid,datadir)\n",
    "#xmollist=[]\n",
    "nmol=len(chembl_list)\n",
    "    #for imol, (chembl, smiles, activity) in enumerate(zip(chembl_list,smiles_list, activity_list)):\n",
    "    #    if imol==44:\n",
    "def showMol(index):\n",
    "    imol=index\n",
    "    chembl=chembl_list[imol]\n",
    "    smiles=smiles_list[imol]\n",
    "    activity=activity_list[imol] \n",
    "    print('### calc. %d-th/%d %s'%(imol,nmol,chembl))\n",
    "    print('SMILES = %s'%smiles)\n",
    "    mol=Chem.MolFromSmiles(smiles)\n",
    "    xmol0 = xmol(mol,molid=chembl)\n",
    "    xmol0.activity=activity\n",
    "    xmol0.getFeats()\n",
    "    xmol0.show(grid=False,num=False)\n",
    "    #xmol0.show(grid=True)\n",
    "    print(xmol0.featsAtomListGraph)\n",
    "    print(xmol0.featsFamilyList)\n",
    "            #xmol0.getAllPhcts(verbose=False)\n",
    "            #xmollist.append(xmol0)"
   ]
  },
  {
   "cell_type": "code",
   "execution_count": 16,
   "metadata": {
    "scrolled": false
   },
   "outputs": [
    {
     "data": {
      "application/vnd.jupyter.widget-view+json": {
       "model_id": "abfbd294a82b4322bd975210b3161361",
       "version_major": 2,
       "version_minor": 0
      },
      "text/plain": [
       "interactive(children=(IntSlider(value=59, description='index', max=119), Output()), _dom_classes=('widget-inte…"
      ]
     },
     "metadata": {},
     "output_type": "display_data"
    },
    {
     "data": {
      "text/plain": [
       "<function __main__.showMol(index)>"
      ]
     },
     "execution_count": 16,
     "metadata": {},
     "output_type": "execute_result"
    }
   ],
   "source": [
    "from ipywidgets import interact\n",
    "interact(showMol, index=(0, nmol - 1, 1))"
   ]
  },
  {
   "cell_type": "code",
   "execution_count": 5,
   "metadata": {},
   "outputs": [],
   "source": [
    "def test_getAllPhcts3():\n",
    "    datadir = './data/'\n",
    "    tid=11#\n",
    "    chembl_list, smiles_list, activity_list = read(tid,datadir)\n",
    "    xmollist=[]\n",
    "    nmol=len(chembl_list)\n",
    "    for imol, (chembl, smiles, activity) in enumerate(zip(chembl_list,smiles_list, activity_list)):\n",
    "        if imol==0:\n",
    "            print('### calc. %d-th/%d %s'%(imol,nmol,chembl))\n",
    "            print('SMILES = %s'%smiles)\n",
    "            mol=Chem.MolFromSmiles(smiles)\n",
    "            xmol0 = xmol(mol,molid=chembl)\n",
    "            xmol0.activity=activity\n",
    "            xmol0.getFeats()\n",
    "            #xmol0.show(grid=True)\n",
    "            xmol0.show(grid=False)\n",
    "            xmol0.showPhct_adjmat(xmol0.t.graphnp,figsize=(15,15))\n",
    "            #xmol0.getAllPhcts(verbose=False,verbosePhct=60)\n",
    "            xmol0.getAllPhcts(verbose=True)\n",
    "            xmollist.append(xmol0)\n",
    "\n"
   ]
  },
  {
   "cell_type": "code",
   "execution_count": 6,
   "metadata": {},
   "outputs": [],
   "source": [
    "#atomSetOnPhct\n",
    "#[1, 2, 3, 4, 8, 18, 19, 20, 28, 32, 33, 34, 35, 36, 37, 38, 39]\n",
    "#tid=8 imol=588 phct=4856では[28,29,30,36,37](Tree化後では[29, 28, 22, 21, 24, 20])がHydrophobicのCFとなり、\n",
    "#最短パスとしてatomSetOnPhctに36,28番の原子に分かれて入ってしまう。そのために実質7個のCFが含まれる。20と28は繋がっていないので。\n",
    "#このような場合、20-28が繋がっているatomSetOnPhctにするように矯正するしかない。\n",
    "#tid=11, imol=958, phct=60も同じ。"
   ]
  },
  {
   "cell_type": "code",
   "execution_count": 7,
   "metadata": {
    "scrolled": false
   },
   "outputs": [],
   "source": [
    "#test_getAllPhcts3()"
   ]
  },
  {
   "cell_type": "code",
   "execution_count": 8,
   "metadata": {},
   "outputs": [
    {
     "data": {
      "image/png": "[encoded data removed]",
      "text/plain": [
       "<rdkit.Chem.rdchem.Mol at 0x7fa56c25ce90>"
      ]
     },
     "execution_count": 8,
     "metadata": {},
     "output_type": "execute_result"
    }
   ],
   "source": [
    "mol=Chem.MolFromSmiles('Cc1ccc(NC(=O)C2CN(C)CCO2)cc1-c1ccc2cc(NC(=O)C3CC3)ncc2c1')\n",
    "mol"
   ]
  },
  {
   "cell_type": "code",
   "execution_count": null,
   "metadata": {},
   "outputs": [],
   "source": []
  }
 ],
 "metadata": {
  "kernelspec": {
   "display_name": "Python 3",
   "language": "python",
   "name": "python3"
  },
  "language_info": {
   "codemirror_mode": {
    "name": "ipython",
    "version": 3
   },
   "file_extension": ".py",
   "mimetype": "text/x-python",
   "name": "python",
   "nbconvert_exporter": "python",
   "pygments_lexer": "ipython3",
   "version": "3.7.7"
  }
 },
 "nbformat": 4,
 "nbformat_minor": 4
}
